{
 "cells": [
  {
   "cell_type": "code",
   "execution_count": 6,
   "metadata": {},
   "outputs": [],
   "source": [
    "import re"
   ]
  },
  {
   "cell_type": "markdown",
   "metadata": {},
   "source": [
    "# Ejercicio 1\n",
    "Genere una expresión regular que sea capaz de detectar las placas de un\n",
    "vehículo particular guatemalteco."
   ]
  },
  {
   "cell_type": "code",
   "execution_count": 41,
   "metadata": {},
   "outputs": [
    {
     "name": "stdout",
     "output_type": "stream",
     "text": [
      "['A123SAM', 'P321MAS', 'P123SAT', 'P126FMV']\n"
     ]
    }
   ],
   "source": [
    "placas = ['A123SAM', 'P321MAS', '0393STI', 'P123SAT', 'P126FMV', 'BSY4353', '7VXT881', 'P126FMc', 'p439dKl']\n",
    "r = re.compile('[A|C|CC|CD|M|MI|O|P|TC|U]\\d{3}[A-Z]{3}')\n",
    "placas_guatemala = list(filter(r.match,placas))\n",
    "print(placas_guatemala)"
   ]
  },
  {
   "cell_type": "markdown",
   "metadata": {},
   "source": [
    "La razón por los varios OR's es porque son los tipos de vehículos que circulan, P es privado, U bus urbano, etc."
   ]
  },
  {
   "cell_type": "markdown",
   "metadata": {},
   "source": [
    "# Ejercicio 2\n",
    "Genere una expresión regular que valide si un archivo es de tipo .pdf o jpg.\n",
    "a. Ejemplo1.pdf, prueba2.PDF, respuestas_del_examen.jpg, amor.JPG"
   ]
  },
  {
   "cell_type": "code",
   "execution_count": 8,
   "metadata": {},
   "outputs": [
    {
     "name": "stdout",
     "output_type": "stream",
     "text": [
      "['zonasparciales.pdf', 'gato.jpg']\n"
     ]
    }
   ],
   "source": [
    "archivos = ['financiera_repaso.csv', 'lab1.R', 'mrrobot.mp4', 'zonasparciales.pdf', 'gato.jpg']\n",
    "r = re.compile('^.*\\.(jpg|pdf)$')\n",
    "archivos_filtrados = list(filter(r.match, archivos))\n",
    "print(archivos_filtrados)"
   ]
  },
  {
   "cell_type": "markdown",
   "metadata": {},
   "source": [
    "Dado a que el formato de archivos es case sensitive, decidí excluir los que fueran en mayúsculas."
   ]
  },
  {
   "cell_type": "markdown",
   "metadata": {},
   "source": [
    "# Ejercicio 3\n",
    "Genere una expresión regular para validar contraseñas de correo. Una\n",
    "contraseña de correo debe contener por lo menos 8 caracteres, una letra\n",
    "mayúscula y un carácter especial."
   ]
  },
  {
   "cell_type": "code",
   "execution_count": 107,
   "metadata": {},
   "outputs": [
    {
     "name": "stdout",
     "output_type": "stream",
     "text": [
      "['choColate#', 'waitfortheQ&']\n"
     ]
    }
   ],
   "source": [
    "passwords = ['12345678', 'choColate#', 'lowlifE', 'waitfortheQ&', 'Hsd$', 'abcdefghZ', 'zxcvbnmk%']\n",
    "r = re.compile('(?=.*[A-Z])(?=.*[!@#$%^&*])(?=.{8,})')\n",
    "met_requirements = list(filter(r.match, passwords))\n",
    "print(met_requirements)"
   ]
  },
  {
   "cell_type": "markdown",
   "metadata": {},
   "source": [
    "# Ejercicio 4\n",
    "Cree una expresión regular para validar un numero de carnet de la Universidad\n",
    "Galileo, por ejemplo 19002324 donde los primeros dos dígitos representan el\n",
    "año en el que el alumno se inscribió los cuales pueden variar desde el 01 (año\n",
    "2001) hasta el 30 (año 2030). Los siguientes dos dígitos son cero (00) los cuales \n",
    "van por default y los últimos cuatro dígitos son un número que va desde el 1110\n",
    "hasta el 8970. Para dar su respuesta utilice la notación de expresiones\n",
    "regulares."
   ]
  },
  {
   "cell_type": "code",
   "execution_count": 61,
   "metadata": {},
   "outputs": [
    {
     "name": "stdout",
     "output_type": "stream",
     "text": [
      "['19002324', '02001110', '20008970', '20007488', '30002340', '25008969']\n"
     ]
    }
   ],
   "source": [
    "carnet = ['19002324', '20190001', '20180006', '30120009', '02001110', '20008970', '20007488', '32007488', '30002340', '15001109', '16008971', '25008969', '24008971', '22001009']\n",
    "r = re.compile('([0-2][0-9]|30)00(1[1-9][1-9][0-9]|[2-7][0-9][0-9][0-9]|8[0-8][0-9][0-9]|89[0-6][0-9]|8970)')\n",
    "carnet_galileo = list(filter(r.match, carnet))\n",
    "print(carnet_galileo)"
   ]
  },
  {
   "cell_type": "markdown",
   "metadata": {},
   "source": [
    "# Ejercicio 5\n",
    "Cree una expresión regular que encuentre todas las palabras de la primera\n",
    "línea, pero ninguna de la segunda.\n",
    "a. pit, spot, spate, slap two, respite\n",
    "b. pt,Pot,peat,part"
   ]
  },
  {
   "cell_type": "code",
   "execution_count": 83,
   "metadata": {},
   "outputs": [
    {
     "name": "stdout",
     "output_type": "stream",
     "text": [
      "['pit', 'spot', 'spate', 'slap two', 'respite']\n"
     ]
    }
   ],
   "source": [
    "palabras = ['pit', 'spot', 'spate', 'slap two', 'respite', 'pt', 'Pot', 'peat', 'part']\n",
    "r = re.compile('(?![A-Z])\\w{0,}(p\\st\\w|p\\w{1}t\\w{0,})')\n",
    "palabras_filtradas = list(filter(r.match, palabras))\n",
    "print(palabras_filtradas)"
   ]
  },
  {
   "cell_type": "markdown",
   "metadata": {},
   "source": [
    "# Ejercicio 6\n",
    "Cree una expresión regular para obtener los números telefónicos de Guatemala.\n",
    "Estos pueden contener al inicio +502 o 502, pueden estar separados por un\n",
    "espacio en blanco o un guión o juntos. Notar que los números telefónicos\n",
    "pueden empezar únicamente con 4,5,6 o 2.\n",
    "a. +50254821151, 4210-7640, 52018150, 2434 6854, 11234569,\n",
    "50211234578"
   ]
  },
  {
   "cell_type": "code",
   "execution_count": 26,
   "metadata": {},
   "outputs": [
    {
     "name": "stdout",
     "output_type": "stream",
     "text": [
      "['50243213456', '+50254821151', '50234345689', '52018150', '54218999', '4210-7640', '2434 6854', '+50224568788']\n"
     ]
    }
   ],
   "source": [
    "numeros = ['50243213456', '11234569', '+50254821151', '50234345689', '52018150', '54218999', '4210-7640', '2434 6854', '+50224568788', '6543---0090']\n",
    "r = re.compile('((\\+502|502)((2|[4-6])([\\d]{3}[\\-\\s]{0,1}\\d{4})))|((2|[4-6])([\\d]{3}[\\-\\s]{0,1}\\d{4}))')\n",
    "numeros_guate = list(filter(r.match, numeros))\n",
    "print(numeros_guate)"
   ]
  },
  {
   "cell_type": "markdown",
   "metadata": {},
   "source": [
    "# Ejercicio 7\n",
    "Genere una expresión regular que sea capaz de obtener correos de la UFM."
   ]
  },
  {
   "cell_type": "code",
   "execution_count": 137,
   "metadata": {},
   "outputs": [
    {
     "name": "stdout",
     "output_type": "stream",
     "text": [
      "['hwalter@ufm.edu', 'sebastiancm@ufm.edu', 'raul43@ufm.edu']\n"
     ]
    }
   ],
   "source": [
    "correos = ['hola' , 'hwalter@ufm.edu' , 'sebastiancm@ufm.edu' , 'noche', 'enrique@galiledo.edu', 'diego@cag.edu.gt', 'raul43@ufm.edu', 'microsoft.edu']\n",
    "r = re.compile('\\w{1,255}\\@ufm\\.edu')\n",
    "resultado = list(filter(r.match, correos))\n",
    "print(resultado)"
   ]
  },
  {
   "cell_type": "markdown",
   "metadata": {},
   "source": [
    "# Ejercicio 8\n",
    "En el mundo distópico de Eurasia, Big Brother le asigna un identificador único a\n",
    "cada ciudadano. Genere una expresión regular que valide las identificaciones.\n",
    "Composición del id:\n",
    "a. El id inicia con 0 a 3 letras minúsculas (puede tener 0 letras minúsculas\n",
    "hasta tres letras minúsculas)\n",
    "b. Luego es seguido por una cadena de dígitos que puede ser de 2 a 9\n",
    "dígitos respectivamente.\n",
    "c. Inmediatamente después de la cadena de dígitos, se encuentra por lo\n",
    "menos tres letras mayúsculas.\n",
    "d. Ej: abc012333ABCDEEEE"
   ]
  },
  {
   "cell_type": "code",
   "execution_count": 105,
   "metadata": {},
   "outputs": [
    {
     "name": "stdout",
     "output_type": "stream",
     "text": [
      "['abc012333ABCDEEEEE', 'd22OPN', 'xc8534LQT']\n"
     ]
    }
   ],
   "source": [
    "identificaciones = ['abc012333ABCDEEEEE', 'abc012333bcdeeeee', 'defff0abedEEEESCCC', 'defff0abedEEEESCCC', 'd22OPN', '1', '45WKn', 'xc8534LQT']\n",
    "r = re.compile('(^[a-z]{,3})\\d{2,9}[A-Z]{3,}')\n",
    "identificaciones_bg = list(filter(r.match, identificaciones))\n",
    "print(identificaciones_bg)"
   ]
  },
  {
   "cell_type": "markdown",
   "metadata": {},
   "source": [
    "Para el requerimiento de 2 a 9 dígitos, asumí que no debería tener el formato de \"000000000\". El ciudadano podía tener el número por ejemplo 532 sin ser representado como 000000532"
   ]
  }
 ],
 "metadata": {
  "kernelspec": {
   "display_name": "Python 3",
   "language": "python",
   "name": "python3"
  },
  "language_info": {
   "codemirror_mode": {
    "name": "ipython",
    "version": 3
   },
   "file_extension": ".py",
   "mimetype": "text/x-python",
   "name": "python",
   "nbconvert_exporter": "python",
   "pygments_lexer": "ipython3",
   "version": "3.7.7"
  }
 },
 "nbformat": 4,
 "nbformat_minor": 4
}
